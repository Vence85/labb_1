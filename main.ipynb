{
 "cells": [
  {
   "cell_type": "code",
   "execution_count": null,
   "metadata": {},
   "outputs": [
    {
     "name": "stdout",
     "output_type": "stream",
     "text": [
      ">seq1\n",
      "cgtaaccaataaaaaaacaagcttaacctaattc\n",
      ">seq2\n",
      "agcttagtttggatctggccgggg\n",
      ">seq3\n",
      "gcggatttactccccccaaaaannaggggagagcccagataaatggagtctgtgcgtccaca\n",
      ">seq4\n",
      "gcggatttactcaggggagagcccagggataaatggagtctgtgcgtccaca\n",
      "{'seq1\\n': 'cGTAaccaataaaaaaacaagcttaacctaattc\\n', 'seq2\\n': 'agcttagTTTGGatctggccgggg\\n', 'seq3\\n': 'gcggatttactcCCCCCAAAAANNaggggagagcccagataaatggagtctgtgcgtccaca\\n', 'seq4\\n': 'gcggatttactcaggggagagcccagGGataaatggagtctgtgcgtccaca'}\n"
     ]
    }
   ],
   "source": [
    "import matplotlib.pyplot as plt #importerar maplotlib\n",
    "\n",
    "dna_text_path = \"dna_raw.txt\"\n",
    "\n",
    "dna_sequences = {}\n",
    "\n",
    "with open(dna_text_path, \"r\") as file:\n",
    "    for line in file:\n",
    "        print(line.strip().lower())\n",
    "\n",
    "        if line.startswith(\">\"):\n",
    "            current_id = line[1:] # Tar bort första tecknet och lägger till resten som key\n",
    "            dna_sequences[current_id] = \"\" #Skapar en tom sträng som används som tillfällig Value\n",
    "\n",
    "        else:\n",
    "            dna_sequences[current_id] += line # Lägger till \n",
    "\n",
    "\n",
    "\n",
    "print(dna_sequences)"
   ]
  }
 ],
 "metadata": {
  "kernelspec": {
   "display_name": ".venv",
   "language": "python",
   "name": "python3"
  },
  "language_info": {
   "codemirror_mode": {
    "name": "ipython",
    "version": 3
   },
   "file_extension": ".py",
   "mimetype": "text/x-python",
   "name": "python",
   "nbconvert_exporter": "python",
   "pygments_lexer": "ipython3",
   "version": "3.12.0"
  }
 },
 "nbformat": 4,
 "nbformat_minor": 2
}

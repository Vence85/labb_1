{
 "cells": [
  {
   "cell_type": "markdown",
   "metadata": {},
   "source": [
    "#### labb_1 : Python fundamentals"
   ]
  },
  {
   "cell_type": "code",
   "execution_count": 33,
   "metadata": {},
   "outputs": [
    {
     "ename": "AttributeError",
     "evalue": "'tuple' object has no attribute 'append'",
     "output_type": "error",
     "traceback": [
      "\u001b[1;31m---------------------------------------------------------------------------\u001b[0m",
      "\u001b[1;31mAttributeError\u001b[0m                            Traceback (most recent call last)",
      "Cell \u001b[1;32mIn[33], line 29\u001b[0m\n\u001b[0;32m     26\u001b[0m         \u001b[38;5;28;01mif\u001b[39;00m letter \u001b[38;5;129;01min\u001b[39;00m letter_count:\n\u001b[0;32m     27\u001b[0m             letter_count[letter] \u001b[38;5;241m+\u001b[39m\u001b[38;5;241m=\u001b[39m \u001b[38;5;241m1\u001b[39m\n\u001b[1;32m---> 29\u001b[0m     \u001b[43msequence_list\u001b[49m\u001b[38;5;241;43m.\u001b[39;49m\u001b[43mappend\u001b[49m(letter_count\u001b[38;5;241m.\u001b[39mcopy())\n\u001b[0;32m     30\u001b[0m     \u001b[38;5;66;03m#print(sequence_list)\u001b[39;00m\n\u001b[0;32m     32\u001b[0m \u001b[38;5;28;01mfor\u001b[39;00m i, count \u001b[38;5;129;01min\u001b[39;00m \u001b[38;5;28menumerate\u001b[39m(sequence_list):\n",
      "\u001b[1;31mAttributeError\u001b[0m: 'tuple' object has no attribute 'append'"
     ]
    }
   ],
   "source": [
    "import matplotlib.pyplot as plt #importerar maplotlib\n",
    "\n",
    "dna_text_path = \"dna_raw.txt\"\n",
    "\n",
    "dna_sequences = {}\n",
    "sequence_list = ()\n",
    "\n",
    "with open(dna_text_path, \"r\") as file:#Öppnar textfilen\n",
    "    for line in file:\n",
    "        line = line.strip().lower() # Tar bort whitespece samt gör allt till lowecase bokstäver\n",
    "\n",
    "        if line.startswith(\">\"):\n",
    "            current_id = line[1:] # Tar bort första tecknet och lägger till resten som key\n",
    "            dna_sequences[current_id] = \"\" #Skapar en tom sträng som används som tillfällig Value, detta steg användes för att kunna skriva ut och se vad som händer. \n",
    "\n",
    "        else:\n",
    "            dna_sequences[current_id] += line # Lägger till value i dicten\n",
    "\n",
    "dna_sequences = list(dna_sequences.values()) ##skapar en lista med enabrt values\n",
    "\n",
    "for index, sequence in enumerate(dna_sequences):\n",
    "    letter_count= {\"a\": 0, \"t\":0, \"c\":0, \"g\":0}\n",
    "    ##print(f\"{index}: {sequence}\")\n",
    "\n",
    "    for letter in sequence:\n",
    "        if letter in letter_count:\n",
    "            letter_count[letter] += 1\n",
    "\n",
    "    sequence_list.append(letter_count.copy())\n",
    "    #print(sequence_list)\n",
    "\n",
    "for i, count in enumerate(sequence_list):\n",
    "    print(f\"{count}\")\n",
    "\n",
    "\n",
    "\n",
    "\n",
    "\n",
    "\n",
    "\n"
   ]
  }
 ],
 "metadata": {
  "kernelspec": {
   "display_name": ".venv",
   "language": "python",
   "name": "python3"
  },
  "language_info": {
   "codemirror_mode": {
    "name": "ipython",
    "version": 3
   },
   "file_extension": ".py",
   "mimetype": "text/x-python",
   "name": "python",
   "nbconvert_exporter": "python",
   "pygments_lexer": "ipython3",
   "version": "3.12.0"
  }
 },
 "nbformat": 4,
 "nbformat_minor": 2
}

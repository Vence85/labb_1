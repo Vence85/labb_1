{
 "cells": [
  {
   "cell_type": "markdown",
   "metadata": {},
   "source": [
    "#### Lab 1 : Python fundamentals"
   ]
  },
  {
   "cell_type": "code",
   "execution_count": 23,
   "metadata": {},
   "outputs": [
    {
     "name": "stdout",
     "output_type": "stream",
     "text": [
      "['cgtaaccaataaaaaaacaagcttaacctaattc', 'agcttagtttggatctggccgggg', 'gcggatttactccccccaaaaannaggggagagcccagataaatggagtctgtgcgtccaca', 'gcggatttactcaggggagagcccagggataaatggagtctgtgcgtccaca']\n",
      "Antal bokstäver i alla sekvenser: {'a': 51, 't': 34, 'c': 39, 'g': 46}\n"
     ]
    }
   ],
   "source": [
    "import matplotlib.pyplot as plt #importerar maplotlib\n",
    "\n",
    "dna_text_path = \"dna_raw.txt\"\n",
    "\n",
    "dna_sequences = {}\n",
    "\n",
    "with open(dna_text_path, \"r\") as file:\n",
    "    for line in file:\n",
    "        line = line.strip().lower()\n",
    "\n",
    "        if line.startswith(\">\"):\n",
    "            current_id = line[1:] # Tar bort första tecknet och lägger till resten som key\n",
    "            dna_sequences[current_id] = \"\" #Skapar en tom sträng som används som tillfällig Value\n",
    "\n",
    "        else:\n",
    "            dna_sequences[current_id] += line # Lägger till \n",
    "\n",
    "print(list(dna_sequences.values()))\n",
    "\n",
    "letter_count= {\"a\": 0, \"t\":0, \"c\":0, \"g\":0}\n",
    "\n",
    "for seq_id, sequence in dna_sequences.items():\n",
    "    for letter in sequence:\n",
    "        if letter in letter_count:\n",
    "            letter_count[letter] += 1\n",
    "\n",
    "print(\"Antal bokstäver i alla sekvenser:\", letter_count)\n",
    "\n"
   ]
  }
 ],
 "metadata": {
  "kernelspec": {
   "display_name": ".venv",
   "language": "python",
   "name": "python3"
  },
  "language_info": {
   "codemirror_mode": {
    "name": "ipython",
    "version": 3
   },
   "file_extension": ".py",
   "mimetype": "text/x-python",
   "name": "python",
   "nbconvert_exporter": "python",
   "pygments_lexer": "ipython3",
   "version": "3.12.0"
  }
 },
 "nbformat": 4,
 "nbformat_minor": 2
}
